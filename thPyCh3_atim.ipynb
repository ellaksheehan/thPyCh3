{
 "cells": [
  {
   "cell_type": "markdown",
   "metadata": {},
   "source": [
    "# Think Python 2 Chapter 3 - Functions"
   ]
  },
  {
   "cell_type": "code",
   "execution_count": 1,
   "metadata": {},
   "outputs": [],
   "source": [
    "#We've seen some functions already - int(\"4\"), str(3), input(\"Write something\")\n",
    "#In Python, a function is a named sequence of statements that performs a computation.  When you define a function, you specify\n",
    "#the name and sequence of events.  Later, you can \"call\" the function by name."
   ]
  },
  {
   "cell_type": "markdown",
   "metadata": {},
   "source": [
    "# Function calls"
   ]
  },
  {
   "cell_type": "code",
   "execution_count": 7,
   "metadata": {},
   "outputs": [
    {
     "data": {
      "text/plain": [
       "3"
      ]
     },
     "execution_count": 7,
     "metadata": {},
     "output_type": "execute_result"
    }
   ],
   "source": [
    "#examples \n",
    "int(\"3\")"
   ]
  },
  {
   "cell_type": "code",
   "execution_count": 8,
   "metadata": {},
   "outputs": [
    {
     "data": {
      "text/plain": [
       "str"
      ]
     },
     "execution_count": 8,
     "metadata": {},
     "output_type": "execute_result"
    }
   ],
   "source": [
    "type(\"hello\")"
   ]
  },
  {
   "cell_type": "code",
   "execution_count": 13,
   "metadata": {},
   "outputs": [
    {
     "name": "stdout",
     "output_type": "stream",
     "text": [
      "<class 'str'>\n"
     ]
    }
   ],
   "source": [
    "print(type(\"hello\"))"
   ]
  },
  {
   "cell_type": "code",
   "execution_count": 15,
   "metadata": {},
   "outputs": [
    {
     "name": "stdin",
     "output_type": "stream",
     "text": [
      "Write something something\n"
     ]
    }
   ],
   "source": [
    "my_input = input('Write something')"
   ]
  },
  {
   "cell_type": "code",
   "execution_count": 16,
   "metadata": {},
   "outputs": [
    {
     "data": {
      "text/plain": [
       "3.0"
      ]
     },
     "execution_count": 16,
     "metadata": {},
     "output_type": "execute_result"
    }
   ],
   "source": [
    "# the name of the functions above are int, type, and print\n",
    "# the expression in parentheses is called the ARGUMENT of the function.  It returns a RETURN VALUE.\n",
    "float(3) #this takes the argument 3 and returns 3.0"
   ]
  },
  {
   "cell_type": "code",
   "execution_count": 17,
   "metadata": {},
   "outputs": [
    {
     "name": "stdout",
     "output_type": "stream",
     "text": [
      "3\n"
     ]
    }
   ],
   "source": [
    "my_var = str(int(\"3\"))\n",
    "print(my_var)"
   ]
  },
  {
   "cell_type": "code",
   "execution_count": 18,
   "metadata": {},
   "outputs": [],
   "source": [
    "#Python has a math module that provides many familiar mathematical functions.  \n",
    "#A Module is a file that contains a collection of related functions.\n",
    "import math\n",
    "#This imports all the statements written in the math module; it creates a \"Module object\" named math."
   ]
  },
  {
   "cell_type": "code",
   "execution_count": 19,
   "metadata": {},
   "outputs": [
    {
     "data": {
      "text/plain": [
       "<module 'math' from '/Users/erichansen/anaconda3/lib/python3.8/lib-dynload/math.cpython-38-darwin.so'>"
      ]
     },
     "execution_count": 19,
     "metadata": {},
     "output_type": "execute_result"
    }
   ],
   "source": [
    "#Displaying it gives a little info about it\n",
    "math"
   ]
  },
  {
   "cell_type": "code",
   "execution_count": 20,
   "metadata": {},
   "outputs": [],
   "source": [
    "#To access the functions and variables inside a module, use \"dot notation\""
   ]
  },
  {
   "cell_type": "code",
   "execution_count": 21,
   "metadata": {},
   "outputs": [
    {
     "name": "stdout",
     "output_type": "stream",
     "text": [
      "radians is 3.141592653589793\n"
     ]
    },
    {
     "data": {
      "text/plain": [
       "1.2246467991473532e-16"
      ]
     },
     "execution_count": 21,
     "metadata": {},
     "output_type": "execute_result"
    }
   ],
   "source": [
    "radians = math.pi\n",
    "print(\"radians is\",radians)\n",
    "y_val = math.sin(radians)\n",
    "y_val"
   ]
  },
  {
   "cell_type": "code",
   "execution_count": 30,
   "metadata": {},
   "outputs": [
    {
     "data": {
      "text/plain": [
       "1.0"
      ]
     },
     "execution_count": 30,
     "metadata": {},
     "output_type": "execute_result"
    }
   ],
   "source": [
    "big_num = 100000000000 #i.e. 10**11\n",
    "math.log10(big_num)\n",
    "\n",
    "math.log(2,2)"
   ]
  },
  {
   "cell_type": "code",
   "execution_count": 31,
   "metadata": {},
   "outputs": [
    {
     "data": {
      "text/plain": [
       "12.566370614359172"
      ]
     },
     "execution_count": 31,
     "metadata": {},
     "output_type": "execute_result"
    }
   ],
   "source": [
    "radius = 2\n",
    "area = math.pi * radius**2\n",
    "area"
   ]
  },
  {
   "cell_type": "code",
   "execution_count": 24,
   "metadata": {},
   "outputs": [
    {
     "data": {
      "text/plain": [
       "3.141592653589793"
      ]
     },
     "execution_count": 24,
     "metadata": {},
     "output_type": "execute_result"
    }
   ],
   "source": [
    "#2 other ways to do import\n",
    "import math as m\n",
    "m.pi"
   ]
  },
  {
   "cell_type": "code",
   "execution_count": 25,
   "metadata": {},
   "outputs": [
    {
     "data": {
      "text/plain": [
       "1.0"
      ]
     },
     "execution_count": 25,
     "metadata": {},
     "output_type": "execute_result"
    }
   ],
   "source": [
    "from math import *\n",
    "pi\n",
    "log(exp(1))"
   ]
  },
  {
   "cell_type": "code",
   "execution_count": 26,
   "metadata": {},
   "outputs": [
    {
     "data": {
      "text/plain": [
       "2.0"
      ]
     },
     "execution_count": 26,
     "metadata": {},
     "output_type": "execute_result"
    }
   ],
   "source": [
    "#Composition of functions\n",
    "#remember f(g(x))?  \n",
    "#Python can compose functions too.\n",
    "math.log(math.exp(radius))"
   ]
  },
  {
   "cell_type": "code",
   "execution_count": 28,
   "metadata": {},
   "outputs": [
    {
     "data": {
      "text/plain": [
       "3.141592653589793"
      ]
     },
     "execution_count": 28,
     "metadata": {},
     "output_type": "execute_result"
    }
   ],
   "source": [
    "#The right hand side of a = can be any expression or function call.  The left side should be a variable name.\n",
    "#no good:  my_funct(x) = log(x)+1\n",
    "pi = math.pi\n",
    "pi"
   ]
  },
  {
   "cell_type": "markdown",
   "metadata": {},
   "source": [
    "# Making new functions"
   ]
  },
  {
   "cell_type": "code",
   "execution_count": 42,
   "metadata": {},
   "outputs": [],
   "source": [
    "#You can define your own functions for helpful tasks\n",
    "def greeter():\n",
    "    print(\"Hello!\")\n",
    "#The first line is a header, the rest (everything indented under the header) \n",
    "#    is the body.  The empty parentheses above show that this function doesn't take any arguments.\n",
    "\n",
    "def squarer(base_number):\n",
    "    return base_number * base_number\n",
    "#this function on the other hand does need an argument.\n",
    "\n",
    "#so far, all we have done is DEFINE the functions; we haven't called them yet.\n"
   ]
  },
  {
   "cell_type": "code",
   "execution_count": 43,
   "metadata": {},
   "outputs": [
    {
     "data": {
      "text/plain": [
       "function"
      ]
     },
     "execution_count": 43,
     "metadata": {},
     "output_type": "execute_result"
    }
   ],
   "source": [
    "#This creates a \"function object\" which has type function\n",
    "type(greeter)"
   ]
  },
  {
   "cell_type": "code",
   "execution_count": 39,
   "metadata": {},
   "outputs": [
    {
     "name": "stdout",
     "output_type": "stream",
     "text": [
      "Hello!\n"
     ]
    },
    {
     "data": {
      "text/plain": [
       "9"
      ]
     },
     "execution_count": 39,
     "metadata": {},
     "output_type": "execute_result"
    }
   ],
   "source": [
    "#Now we call them (doesn't have to be in a different cell, just separated for clarity)\n",
    "greeter()\n",
    "squarer(3)"
   ]
  },
  {
   "cell_type": "code",
   "execution_count": 47,
   "metadata": {},
   "outputs": [
    {
     "name": "stdout",
     "output_type": "stream",
     "text": [
      "Hello!\n",
      "Hello!\n",
      "Hello!\n"
     ]
    }
   ],
   "source": [
    "#You can call already-defined functions inside other new functions:\n",
    "def enthusiastic_greeter():\n",
    "    greeter()\n",
    "    greeter()\n",
    "    greeter()\n",
    "\n",
    "enthusiastic_greeter()\n",
    "#You can only call a function -after- you've defined it, top to bottom, (with potential twists and turns) in the flow of execution.\n",
    "# calling a function is like a detour in the top-to-bottom flow of statements."
   ]
  },
  {
   "cell_type": "markdown",
   "metadata": {},
   "source": [
    "# Parameters and arguments"
   ]
  },
  {
   "cell_type": "code",
   "execution_count": 49,
   "metadata": {},
   "outputs": [
    {
     "name": "stdout",
     "output_type": "stream",
     "text": [
      "my string\n",
      "my string\n"
     ]
    }
   ],
   "source": [
    "#when you call a function, you hand it Arguments\n",
    "#but inside the functions, arguments are assigned to variables called parameters.\n",
    "def print_twice(stuff):\n",
    "    print(stuff)\n",
    "    print(stuff)\n",
    "#The function assigns whatever argument we call it with to the parameter named stuff.\n",
    "print_twice(\"my string\") #in this case, \"my string\" is the argument, assigned to the parameter stuff.\n"
   ]
  },
  {
   "cell_type": "code",
   "execution_count": 51,
   "metadata": {},
   "outputs": [
    {
     "name": "stdout",
     "output_type": "stream",
     "text": [
      "Hello Hello Hello Hello \n",
      "Hello Hello Hello Hello \n"
     ]
    }
   ],
   "source": [
    "#try auto-completing function calls with tab\n",
    "print_twice(\"Hello \"*4)"
   ]
  },
  {
   "cell_type": "code",
   "execution_count": 55,
   "metadata": {},
   "outputs": [
    {
     "name": "stdout",
     "output_type": "stream",
     "text": [
      "first_thingother_thing\n",
      "first_thingother_thing\n"
     ]
    }
   ],
   "source": [
    "#Variables and parameters are LOCAL to a function\n",
    "def concat_twice(part1, part2):\n",
    "    cat = part1 + part2\n",
    "    print_twice(cat)\n",
    "concat_twice(\"first_thing\", \"other_thing\")"
   ]
  },
  {
   "cell_type": "code",
   "execution_count": 57,
   "metadata": {},
   "outputs": [],
   "source": [
    "#but if I tried to access the local variable \"cat\" above...\n",
    "##uncomment the prints below to find out!\n",
    "#print(cat)\n",
    "#and \"stuff\" up in print_twice() doesn't exist except in print_twice()\n",
    "#print(stuff)"
   ]
  },
  {
   "cell_type": "code",
   "execution_count": 58,
   "metadata": {},
   "outputs": [],
   "source": [
    "#it can be useful to draw a stack diagram to represent your \"main\" program along with any function calls that \n",
    "#have been made."
   ]
  },
  {
   "cell_type": "code",
   "execution_count": 60,
   "metadata": {},
   "outputs": [
    {
     "data": {
      "text/plain": [
       "1764"
      ]
     },
     "execution_count": 60,
     "metadata": {},
     "output_type": "execute_result"
    }
   ],
   "source": [
    "#Fruitful vs void functions\n",
    "#Fruitful functions return a value.  Void functions don't.\n",
    "#Although concat_twice does PRINT a value, it doesn't RETURN anything, so it's void.\n",
    "#squarer doesn't immediately PRINT anything, but it does RETURN something, so it's fruitful.\n",
    "#but if you don't DO anything with it, it's lost!!!\n",
    "squarer(42) #Jupyter only prints it out for convenience."
   ]
  },
  {
   "cell_type": "code",
   "execution_count": 61,
   "metadata": {},
   "outputs": [],
   "source": [
    "#hmm, what was the square of 42 again?  We never saved it!\n",
    "#Try again.\n",
    "square_of_42 = squarer(42)"
   ]
  },
  {
   "cell_type": "code",
   "execution_count": 63,
   "metadata": {},
   "outputs": [
    {
     "name": "stdout",
     "output_type": "stream",
     "text": [
      "1764\n"
     ]
    }
   ],
   "source": [
    "print(square_of_42)\n",
    "#ah, that's better!"
   ]
  },
  {
   "cell_type": "code",
   "execution_count": 64,
   "metadata": {},
   "outputs": [],
   "source": [
    "#Why?\n",
    "#functions can name and group our ideas conveniently for reading and debugging.\n",
    "#functions can eliminate redundant portions of code.\n",
    "#functions can allow us to debug each part of code one at a time, then assemble them together.\n",
    "#well designed functions can be re-usable in many other programs."
   ]
  },
  {
   "cell_type": "markdown",
   "metadata": {},
   "source": [
    "## Exercise 1  \n",
    "Write a function named right_justify that takes a string named s as a parameter and prints the string with enough leading spaces so that the last letter of the string is in column 70 of the display.  \n",
    "eg: right_justify('monty')  \n",
    "                                                                 monty  \n",
    "Hint: Use string concatenation and repetition. Also, Python provides a built-in function called len that returns the length of a string, so the value of len('monty') is 5."
   ]
  },
  {
   "cell_type": "code",
   "execution_count": null,
   "metadata": {},
   "outputs": [],
   "source": []
  },
  {
   "cell_type": "markdown",
   "metadata": {},
   "source": [
    "## Exercise 2  \n",
    "A function object is a value you can assign to a variable or pass as an argument. For example, do_twice is a function that takes a function object as an argument and calls it twice:\n",
    "def do_twice(f):  \n",
    "    f()  \n",
    "    f() \n",
    "Here’s an example that uses do_twice to call a function named print_spam twice.  \n",
    "def print_spam():  \n",
    "    print('spam')  \n",
    "  \n",
    "do_twice(print_spam)  \n",
    "Type this example into a script and test it.  \n",
    "Modify do_twice so that it takes two arguments, a function object and a value, and calls the function twice, passing the value as an argument.  \n",
    "Copy the definition of print_twice from earlier in this chapter to your script.  \n",
    "Use the modified version of do_twice to call print_twice twice, passing 'spam' as an argument.  \n",
    "Define a new function called do_four that takes a function object and a value and calls the function four times, passing the value as a parameter. There should be only two statements in the body of this function, not four.  \n",
    "Solution: http://thinkpython2.com/code/do_four.py.  \n"
   ]
  },
  {
   "cell_type": "markdown",
   "metadata": {},
   "source": [
    "## Exercise 3  "
   ]
  },
  {
   "cell_type": "raw",
   "metadata": {},
   "source": [
    "Exercise 3  \n",
    "Note: This exercise should be done using only the statements and other features we have learned so far.\n",
    "Write a function that draws a grid like the following:\n",
    "+ - - - - + - - - - +\n",
    "|         |         |\n",
    "|         |         |\n",
    "|         |         |\n",
    "|         |         |\n",
    "+ - - - - + - - - - +\n",
    "|         |         |\n",
    "|         |         |\n",
    "|         |         |\n",
    "|         |         |\n",
    "+ - - - - + - - - - +\n",
    "Hint: to print more than one value on a line, you can print a comma-separated sequence of values:\n",
    "print('+', '-')\n",
    "By default, print advances to the next line, but you can override that behavior and put a space at the end, like this:\n",
    "print('+', end=' ')\n",
    "print('-')\n",
    "The output of these statements is '+ -' on the same line. The output from the next print statement would begin on the next line.\n",
    "Write a function that draws a similar grid with four rows and four columns.\n",
    "Solution: http://thinkpython2.com/code/grid.py. Credit: This exercise is based on an exercise in Oualline, Practical C Programming, Third Edition, O’Reilly Media, 1997."
   ]
  },
  {
   "cell_type": "code",
   "execution_count": null,
   "metadata": {},
   "outputs": [],
   "source": []
  }
 ],
 "metadata": {
  "kernelspec": {
   "display_name": "Python 3",
   "language": "python",
   "name": "python3"
  },
  "language_info": {
   "codemirror_mode": {
    "name": "ipython",
    "version": 3
   },
   "file_extension": ".py",
   "mimetype": "text/x-python",
   "name": "python",
   "nbconvert_exporter": "python",
   "pygments_lexer": "ipython3",
   "version": "3.8.3"
  }
 },
 "nbformat": 4,
 "nbformat_minor": 4
}
